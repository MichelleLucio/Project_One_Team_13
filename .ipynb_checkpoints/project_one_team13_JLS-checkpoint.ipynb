{
 "cells": [
  {
   "cell_type": "code",
   "execution_count": 1,
   "metadata": {},
   "outputs": [
    {
     "data": {
      "text/html": [
       "<div>\n",
       "<style scoped>\n",
       "    .dataframe tbody tr th:only-of-type {\n",
       "        vertical-align: middle;\n",
       "    }\n",
       "\n",
       "    .dataframe tbody tr th {\n",
       "        vertical-align: top;\n",
       "    }\n",
       "\n",
       "    .dataframe thead th {\n",
       "        text-align: right;\n",
       "    }\n",
       "</style>\n",
       "<table border=\"1\" class=\"dataframe\">\n",
       "  <thead>\n",
       "    <tr style=\"text-align: right;\">\n",
       "      <th></th>\n",
       "      <th>round</th>\n",
       "      <th>value</th>\n",
       "      <th>daily_double</th>\n",
       "      <th>category</th>\n",
       "      <th>comments</th>\n",
       "      <th>answer</th>\n",
       "      <th>question</th>\n",
       "      <th>air_date</th>\n",
       "      <th>notes</th>\n",
       "    </tr>\n",
       "  </thead>\n",
       "  <tbody>\n",
       "    <tr>\n",
       "      <th>0</th>\n",
       "      <td>1</td>\n",
       "      <td>100</td>\n",
       "      <td>no</td>\n",
       "      <td>BIRDS</td>\n",
       "      <td>-</td>\n",
       "      <td>The bat parrot probably got its name from slee...</td>\n",
       "      <td>upside-down</td>\n",
       "      <td>1987-02-16</td>\n",
       "      <td>1987 Teen Tournament quarterfinal game 1.</td>\n",
       "    </tr>\n",
       "    <tr>\n",
       "      <th>1</th>\n",
       "      <td>1</td>\n",
       "      <td>200</td>\n",
       "      <td>no</td>\n",
       "      <td>BIRDS</td>\n",
       "      <td>-</td>\n",
       "      <td>Too \"lei\"zy to migrate, the geese in this trop...</td>\n",
       "      <td>Hawaii</td>\n",
       "      <td>1987-02-16</td>\n",
       "      <td>1987 Teen Tournament quarterfinal game 1.</td>\n",
       "    </tr>\n",
       "    <tr>\n",
       "      <th>2</th>\n",
       "      <td>1</td>\n",
       "      <td>300</td>\n",
       "      <td>no</td>\n",
       "      <td>BIRDS</td>\n",
       "      <td>-</td>\n",
       "      <td>A bird waterproofs its feathers with oil from ...</td>\n",
       "      <td>its tail</td>\n",
       "      <td>1987-02-16</td>\n",
       "      <td>1987 Teen Tournament quarterfinal game 1.</td>\n",
       "    </tr>\n",
       "    <tr>\n",
       "      <th>3</th>\n",
       "      <td>1</td>\n",
       "      <td>100</td>\n",
       "      <td>no</td>\n",
       "      <td>THE LIBRARY</td>\n",
       "      <td>-</td>\n",
       "      <td>Defacing books or shouting or throwing spitbal...</td>\n",
       "      <td>three activities prohibited in the library</td>\n",
       "      <td>1987-02-16</td>\n",
       "      <td>1987 Teen Tournament quarterfinal game 1.</td>\n",
       "    </tr>\n",
       "    <tr>\n",
       "      <th>4</th>\n",
       "      <td>1</td>\n",
       "      <td>200</td>\n",
       "      <td>no</td>\n",
       "      <td>THE LIBRARY</td>\n",
       "      <td>-</td>\n",
       "      <td>On most reference books in your local library,...</td>\n",
       "      <td>R</td>\n",
       "      <td>1987-02-16</td>\n",
       "      <td>1987 Teen Tournament quarterfinal game 1.</td>\n",
       "    </tr>\n",
       "  </tbody>\n",
       "</table>\n",
       "</div>"
      ],
      "text/plain": [
       "   round  value daily_double     category comments  \\\n",
       "0      1    100           no        BIRDS        -   \n",
       "1      1    200           no        BIRDS        -   \n",
       "2      1    300           no        BIRDS        -   \n",
       "3      1    100           no  THE LIBRARY        -   \n",
       "4      1    200           no  THE LIBRARY        -   \n",
       "\n",
       "                                              answer  \\\n",
       "0  The bat parrot probably got its name from slee...   \n",
       "1  Too \"lei\"zy to migrate, the geese in this trop...   \n",
       "2  A bird waterproofs its feathers with oil from ...   \n",
       "3  Defacing books or shouting or throwing spitbal...   \n",
       "4  On most reference books in your local library,...   \n",
       "\n",
       "                                     question    air_date  \\\n",
       "0                                 upside-down  1987-02-16   \n",
       "1                                      Hawaii  1987-02-16   \n",
       "2                                    its tail  1987-02-16   \n",
       "3  three activities prohibited in the library  1987-02-16   \n",
       "4                                           R  1987-02-16   \n",
       "\n",
       "                                       notes  \n",
       "0  1987 Teen Tournament quarterfinal game 1.  \n",
       "1  1987 Teen Tournament quarterfinal game 1.  \n",
       "2  1987 Teen Tournament quarterfinal game 1.  \n",
       "3  1987 Teen Tournament quarterfinal game 1.  \n",
       "4  1987 Teen Tournament quarterfinal game 1.  "
      ]
     },
     "execution_count": 1,
     "metadata": {},
     "output_type": "execute_result"
    }
   ],
   "source": [
    "import matplotlib.pyplot as plt\n",
    "import pandas as pd\n",
    "import numpy as np\n",
    "import scipy.stats as st\n",
    "\n",
    "\n",
    "# Read the data files\n",
    "jeopardy_teen_df= pd.read_csv('kids_teen.csv', sep='\\t')\n",
    "jeopardy_teen_df.head()\n"
   ]
  },
  {
   "cell_type": "raw",
   "metadata": {},
   "source": [
    "# Read the data files\n",
    "jeopardy_adult_df= pd.read_csv('master_season1-35.csv', sep='\\t')\n",
    "jeopardy_adult_df.head(30)"
   ]
  },
  {
   "cell_type": "code",
   "execution_count": 2,
   "metadata": {
    "scrolled": false
   },
   "outputs": [
    {
     "ename": "NameError",
     "evalue": "name 'jeopardy_adult_df' is not defined",
     "output_type": "error",
     "traceback": [
      "\u001b[1;31m---------------------------------------------------------------------------\u001b[0m",
      "\u001b[1;31mNameError\u001b[0m                                 Traceback (most recent call last)",
      "\u001b[1;32m<ipython-input-2-560bddb1611f>\u001b[0m in \u001b[0;36m<module>\u001b[1;34m\u001b[0m\n\u001b[1;32m----> 1\u001b[1;33m \u001b[0mjeopardy_df\u001b[0m \u001b[1;33m=\u001b[0m \u001b[0mpd\u001b[0m\u001b[1;33m.\u001b[0m\u001b[0mmerge\u001b[0m\u001b[1;33m(\u001b[0m\u001b[0mjeopardy_adult_df\u001b[0m\u001b[1;33m,\u001b[0m \u001b[0mjeopardy_teen_df\u001b[0m\u001b[1;33m,\u001b[0m \u001b[0mon\u001b[0m\u001b[1;33m=\u001b[0m\u001b[1;33m[\u001b[0m\u001b[1;34m\"round\"\u001b[0m\u001b[1;33m,\u001b[0m \u001b[1;34m\"value\"\u001b[0m\u001b[1;33m,\u001b[0m \u001b[1;34m\"daily_double\"\u001b[0m\u001b[1;33m,\u001b[0m \u001b[1;34m\"category\"\u001b[0m\u001b[1;33m,\u001b[0m \u001b[1;34m\"comments\"\u001b[0m\u001b[1;33m,\u001b[0m \u001b[1;34m\"answer\"\u001b[0m\u001b[1;33m,\u001b[0m \u001b[1;34m\"question\"\u001b[0m\u001b[1;33m,\u001b[0m\u001b[1;34m\"air_date\"\u001b[0m\u001b[1;33m,\u001b[0m \u001b[1;34m\"notes\"\u001b[0m\u001b[1;33m]\u001b[0m\u001b[1;33m)\u001b[0m\u001b[1;33m\u001b[0m\u001b[1;33m\u001b[0m\u001b[0m\n\u001b[0m\u001b[0;32m      2\u001b[0m \u001b[0mjeopardy_df\u001b[0m\u001b[1;33m\u001b[0m\u001b[1;33m\u001b[0m\u001b[0m\n",
      "\u001b[1;31mNameError\u001b[0m: name 'jeopardy_adult_df' is not defined"
     ]
    }
   ],
   "source": [
    "jeopardy_df = pd.merge(jeopardy_adult_df, jeopardy_teen_df, on=[\"round\", \"value\", \"daily_double\", \"category\", \"comments\", \"answer\", \"question\",\"air_date\", \"notes\"])\n",
    "jeopardy_df"
   ]
  },
  {
   "cell_type": "code",
   "execution_count": null,
   "metadata": {
    "scrolled": true
   },
   "outputs": [],
   "source": [
    "\n"
   ]
  },
  {
   "cell_type": "code",
   "execution_count": null,
   "metadata": {},
   "outputs": [],
   "source": []
  }
 ],
 "metadata": {
  "kernelspec": {
   "display_name": "Python 3",
   "language": "python",
   "name": "python3"
  },
  "language_info": {
   "codemirror_mode": {
    "name": "ipython",
    "version": 3
   },
   "file_extension": ".py",
   "mimetype": "text/x-python",
   "name": "python",
   "nbconvert_exporter": "python",
   "pygments_lexer": "ipython3",
   "version": "3.6.10"
  }
 },
 "nbformat": 4,
 "nbformat_minor": 4
}
